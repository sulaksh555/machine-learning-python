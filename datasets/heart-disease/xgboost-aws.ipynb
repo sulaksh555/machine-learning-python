{
 "cells": [
  {
   "cell_type": "markdown",
   "id": "655e4141",
   "metadata": {},
   "source": [
    "# Prepare the data"
   ]
  },
  {
   "cell_type": "markdown",
   "id": "d0a9e573",
   "metadata": {},
   "source": [
    "Import the required libraries and define the environment variables needed to prepare the data, train the model and deploy the model."
   ]
  },
  {
   "cell_type": "code",
   "execution_count": 1,
   "id": "6abe02be",
   "metadata": {},
   "outputs": [
    {
     "name": "stdout",
     "output_type": "stream",
     "text": [
      "Success - the MySageMakerInstance is in the ap-south-1 region. You will use the 991648021394.dkr.ecr.ap-south-1.amazonaws.com/xgboost:latest container for your SageMaker endpoint.\n"
     ]
    }
   ],
   "source": [
    "# import libraries\n",
    "import boto3, re, sys, math, json, os, sagemaker\n",
    "from sagemaker import get_execution_role\n",
    "import numpy as np\n",
    "import pandas as pd\n",
    "import matplotlib.pyplot as plt\n",
    "from IPython.display import Image\n",
    "from IPython.display import display\n",
    "from time import gmtime, strftime\n",
    "from sagemaker.serializers import CSVSerializer\n",
    "\n",
    "# define IAM role\n",
    "role = get_execution_role()\n",
    "prefix = \"sagemaker/DEMO-xgboost-dm\"\n",
    "my_region = boto3.session.Session().region_name # set the region of the instance\n",
    "\n",
    "# this line automatically looks for the XGBoost image URI and builds an XGBoost container.\n",
    "xgboost_container = sagemaker.image_uris.retrieve(\"xgboost\", my_region, \"latest\")\n",
    "\n",
    "print(\"Success - the MySageMakerInstance is in the \" + my_region + \" region. You will use the \" + xgboost_container + \" container for your SageMaker endpoint.\")"
   ]
  },
  {
   "cell_type": "markdown",
   "id": "c0753991",
   "metadata": {},
   "source": [
    "Create the S3 bucket to store the data."
   ]
  },
  {
   "cell_type": "code",
   "execution_count": 2,
   "id": "2f3ec622",
   "metadata": {},
   "outputs": [
    {
     "name": "stdout",
     "output_type": "stream",
     "text": [
      "S3 error:  An error occurred (BucketAlreadyOwnedByYou) when calling the CreateBucket operation: Your previous request to create the named bucket succeeded and you already own it.\n"
     ]
    }
   ],
   "source": [
    "bucket_name = \"predicting-cardiovascular-disease-bucket\"\n",
    "s3 = boto3.resource(\"s3\")\n",
    "\n",
    "try:\n",
    "    if  my_region == \"us-east-1\":\n",
    "      s3.create_bucket(Bucket = bucket_name)\n",
    "    else: \n",
    "      s3.create_bucket(Bucket = bucket_name, \n",
    "                       CreateBucketConfiguration = { \"LocationConstraint\": my_region })\n",
    "    print(\"S3 bucket created successfully\")\n",
    "except Exception as e:\n",
    "    print(\"S3 error: \",e)"
   ]
  },
  {
   "cell_type": "markdown",
   "id": "bf7f5354",
   "metadata": {},
   "source": [
    "Download the data to the Sagemaker instance and load the data into a data frame."
   ]
  },
  {
   "cell_type": "code",
   "execution_count": 3,
   "id": "1d7b7e0d",
   "metadata": {},
   "outputs": [
    {
     "name": "stdout",
     "output_type": "stream",
     "text": [
      "Success: Data loaded into data frame.\n"
     ]
    }
   ],
   "source": [
    "names = [\"age\", \"sex\", \"cp\", \"trestbps\", \"chol\", \"fbs\", \"restecg\", \n",
    "         \"thalach\", \"exang\", \"oldpeak\", \"slope\", \"ca\", \"thal\", \"num\"]\n",
    "\n",
    "try:\n",
    "  model_data = pd.read_csv(\"https://archive.ics.uci.edu/ml/machine-learning-databases/heart-disease/processed.cleveland.data\",\n",
    "                           names = names,\n",
    "                           na_values = \"?\")\n",
    "  print(\"Success: Data loaded into data frame.\")\n",
    "except Exception as e:\n",
    "    print(\"Data load error: \", e)"
   ]
  },
  {
   "cell_type": "markdown",
   "id": "bb5216d1",
   "metadata": {},
   "source": [
    "In its current state, the target variable has 5 unique values. Pool together the values 1, 2, 3 and 4 into the single value 1, to denote the presence of heart disease. Leave the 0 values the way they are, to denote the absence of heart disease."
   ]
  },
  {
   "cell_type": "code",
   "execution_count": 4,
   "id": "31fae0b9",
   "metadata": {},
   "outputs": [
    {
     "data": {
      "text/plain": [
       "0    164\n",
       "1     55\n",
       "2     36\n",
       "3     35\n",
       "4     13\n",
       "Name: num, dtype: int64"
      ]
     },
     "execution_count": 4,
     "metadata": {},
     "output_type": "execute_result"
    }
   ],
   "source": [
    "model_data[\"num\"].value_counts()"
   ]
  },
  {
   "cell_type": "code",
   "execution_count": 5,
   "id": "9cebcb8d",
   "metadata": {},
   "outputs": [],
   "source": [
    "model_data[\"num\"] = model_data[\"num\"].map({0: 0,\n",
    "                                           1: 1,\n",
    "                                           2: 1,\n",
    "                                           3: 1,\n",
    "                                           4: 1})"
   ]
  },
  {
   "cell_type": "code",
   "execution_count": 6,
   "id": "bbad3f4e",
   "metadata": {},
   "outputs": [
    {
     "data": {
      "text/plain": [
       "0    164\n",
       "1    139\n",
       "Name: num, dtype: int64"
      ]
     },
     "execution_count": 6,
     "metadata": {},
     "output_type": "execute_result"
    }
   ],
   "source": [
    "model_data[\"num\"].value_counts()"
   ]
  },
  {
   "cell_type": "markdown",
   "id": "a00b2085",
   "metadata": {},
   "source": [
    "One-hot encode the target variable."
   ]
  },
  {
   "cell_type": "code",
   "execution_count": 7,
   "id": "e1a813b9",
   "metadata": {},
   "outputs": [
    {
     "data": {
      "text/plain": [
       "1     1\n",
       "2     1\n",
       "3     0\n",
       "4     0\n",
       "5     0\n",
       "6     1\n",
       "7     0\n",
       "8     1\n",
       "9     1\n",
       "10    0\n",
       "Name: num, dtype: int64"
      ]
     },
     "execution_count": 7,
     "metadata": {},
     "output_type": "execute_result"
    }
   ],
   "source": [
    "model_data.loc[1:10, \"num\"]"
   ]
  },
  {
   "cell_type": "code",
   "execution_count": 8,
   "id": "f3e2bd85",
   "metadata": {},
   "outputs": [],
   "source": [
    "model_data[\"num_0\"] = model_data[\"num\"].apply(lambda x: int(x == 0))\n",
    "model_data[\"num_1\"] = model_data[\"num\"].apply(lambda x: int(x == 1))\n",
    "model_data = model_data.drop(labels = \"num\",\n",
    "                             axis = \"columns\")"
   ]
  },
  {
   "cell_type": "code",
   "execution_count": 9,
   "id": "348b8f11",
   "metadata": {},
   "outputs": [
    {
     "data": {
      "text/html": [
       "<div>\n",
       "<style scoped>\n",
       "    .dataframe tbody tr th:only-of-type {\n",
       "        vertical-align: middle;\n",
       "    }\n",
       "\n",
       "    .dataframe tbody tr th {\n",
       "        vertical-align: top;\n",
       "    }\n",
       "\n",
       "    .dataframe thead th {\n",
       "        text-align: right;\n",
       "    }\n",
       "</style>\n",
       "<table border=\"1\" class=\"dataframe\">\n",
       "  <thead>\n",
       "    <tr style=\"text-align: right;\">\n",
       "      <th></th>\n",
       "      <th>num_0</th>\n",
       "      <th>num_1</th>\n",
       "    </tr>\n",
       "  </thead>\n",
       "  <tbody>\n",
       "    <tr>\n",
       "      <th>1</th>\n",
       "      <td>0</td>\n",
       "      <td>1</td>\n",
       "    </tr>\n",
       "    <tr>\n",
       "      <th>2</th>\n",
       "      <td>0</td>\n",
       "      <td>1</td>\n",
       "    </tr>\n",
       "    <tr>\n",
       "      <th>3</th>\n",
       "      <td>1</td>\n",
       "      <td>0</td>\n",
       "    </tr>\n",
       "    <tr>\n",
       "      <th>4</th>\n",
       "      <td>1</td>\n",
       "      <td>0</td>\n",
       "    </tr>\n",
       "    <tr>\n",
       "      <th>5</th>\n",
       "      <td>1</td>\n",
       "      <td>0</td>\n",
       "    </tr>\n",
       "    <tr>\n",
       "      <th>6</th>\n",
       "      <td>0</td>\n",
       "      <td>1</td>\n",
       "    </tr>\n",
       "    <tr>\n",
       "      <th>7</th>\n",
       "      <td>1</td>\n",
       "      <td>0</td>\n",
       "    </tr>\n",
       "    <tr>\n",
       "      <th>8</th>\n",
       "      <td>0</td>\n",
       "      <td>1</td>\n",
       "    </tr>\n",
       "    <tr>\n",
       "      <th>9</th>\n",
       "      <td>0</td>\n",
       "      <td>1</td>\n",
       "    </tr>\n",
       "    <tr>\n",
       "      <th>10</th>\n",
       "      <td>1</td>\n",
       "      <td>0</td>\n",
       "    </tr>\n",
       "  </tbody>\n",
       "</table>\n",
       "</div>"
      ],
      "text/plain": [
       "    num_0  num_1\n",
       "1       0      1\n",
       "2       0      1\n",
       "3       1      0\n",
       "4       1      0\n",
       "5       1      0\n",
       "6       0      1\n",
       "7       1      0\n",
       "8       0      1\n",
       "9       0      1\n",
       "10      1      0"
      ]
     },
     "execution_count": 9,
     "metadata": {},
     "output_type": "execute_result"
    }
   ],
   "source": [
    "model_data.loc[1:10, [\"num_0\", \"num_1\"]]"
   ]
  },
  {
   "cell_type": "markdown",
   "id": "618c7263",
   "metadata": {},
   "source": [
    "Shuffle and split the data into training data and test data."
   ]
  },
  {
   "cell_type": "code",
   "execution_count": 10,
   "id": "1b647c16",
   "metadata": {},
   "outputs": [
    {
     "name": "stdout",
     "output_type": "stream",
     "text": [
      "(242, 15) (61, 15)\n"
     ]
    }
   ],
   "source": [
    "train_data, test_data = np.split(model_data.sample(frac = 1, random_state = 555), \n",
    "                                 [int(0.8 * len(model_data))])\n",
    "print(train_data.shape, test_data.shape)"
   ]
  },
  {
   "cell_type": "markdown",
   "id": "7257577c",
   "metadata": {},
   "source": [
    "# Train the model"
   ]
  },
  {
   "cell_type": "markdown",
   "id": "93fd0482",
   "metadata": {},
   "source": [
    "Reformat the header and the first column of the training data. Load the data from the S3 bucket."
   ]
  },
  {
   "cell_type": "code",
   "execution_count": 11,
   "id": "b63534cf",
   "metadata": {},
   "outputs": [],
   "source": [
    "pd.concat([train_data[\"num_1\"], \n",
    "          train_data.drop(labels = [\"num_0\", \"num_1\"], axis = \"columns\")], \n",
    "          axis = 1).to_csv(\"train.csv\", index = False, header = False)\n",
    "boto3.Session().resource(\"s3\").Bucket(bucket_name).Object(os.path.join(prefix, \"train/train.csv\")).upload_file(\"train.csv\")\n",
    "s3_input_train = sagemaker.inputs.TrainingInput(s3_data = \"s3://{}/{}/train\".format(bucket_name, prefix), \n",
    "                                                content_type = \"csv\")"
   ]
  },
  {
   "cell_type": "markdown",
   "id": "a8a5f0bc",
   "metadata": {},
   "source": [
    "Set up the Amazon SageMaker session, create an instance of the XGBoost model and define the model's hyperparameters."
   ]
  },
  {
   "cell_type": "code",
   "execution_count": 12,
   "id": "e6900391",
   "metadata": {},
   "outputs": [],
   "source": [
    "sess = sagemaker.Session()\n",
    "xgb = sagemaker.estimator.Estimator(xgboost_container,role, \n",
    "                                    instance_count = 1, \n",
    "                                    instance_type = \"ml.m4.xlarge\", \n",
    "                                    output_path = \"s3://{}/{}/output\".format(bucket_name, prefix),\n",
    "                                    sagemaker_session = sess)\n",
    "xgb.set_hyperparameters(max_depth = 5,\n",
    "                        eta = 0.2, \n",
    "                        gamma = 4, \n",
    "                        min_child_weight = 6, \n",
    "                        subsample = 0.8, \n",
    "                        silent = 0, \n",
    "                        objective = \"binary:logistic\", \n",
    "                        num_round = 100)"
   ]
  },
  {
   "cell_type": "markdown",
   "id": "51161203",
   "metadata": {},
   "source": [
    "Start the training job."
   ]
  },
  {
   "cell_type": "code",
   "execution_count": 13,
   "id": "5ab052bf",
   "metadata": {},
   "outputs": [
    {
     "name": "stdout",
     "output_type": "stream",
     "text": [
      "2021-12-11 16:48:48 Starting - Starting the training job...\n",
      "2021-12-11 16:48:50 Starting - Launching requested ML instancesProfilerReport-1639241328: InProgress\n",
      "......\n",
      "2021-12-11 16:50:06 Starting - Preparing the instances for training.........\n",
      "2021-12-11 16:51:46 Downloading - Downloading input data\n",
      "2021-12-11 16:51:46 Training - Downloading the training image...\n",
      "2021-12-11 16:52:12 Uploading - Uploading generated training model\u001b[34mArguments: train\u001b[0m\n",
      "\u001b[34m[2021-12-11:16:52:07:INFO] Running standalone xgboost training.\u001b[0m\n",
      "\u001b[34m[2021-12-11:16:52:07:INFO] Path /opt/ml/input/data/validation does not exist!\u001b[0m\n",
      "\u001b[34m[2021-12-11:16:52:07:INFO] File size need to be processed in the node: 0.01mb. Available memory size in the node: 8351.62mb\u001b[0m\n",
      "\u001b[34m[2021-12-11:16:52:07:INFO] Determined delimiter of CSV input is ','\u001b[0m\n",
      "\u001b[34m[16:52:07] S3DistributionType set as FullyReplicated\u001b[0m\n",
      "\u001b[34m[16:52:07] 242x13 matrix with 3145 entries loaded from /opt/ml/input/data/train?format=csv&label_column=0&delimiter=,\u001b[0m\n",
      "\u001b[34m[16:52:07] src/tree/updater_prune.cc:74: tree pruning end, 1 roots, 6 extra nodes, 2 pruned nodes, max_depth=2\u001b[0m\n",
      "\u001b[34m[0]#011train-error:0.202479\u001b[0m\n",
      "\u001b[34m[16:52:07] src/tree/updater_prune.cc:74: tree pruning end, 1 roots, 6 extra nodes, 4 pruned nodes, max_depth=2\u001b[0m\n",
      "\u001b[34m[1]#011train-error:0.202479\u001b[0m\n",
      "\u001b[34m[16:52:07] src/tree/updater_prune.cc:74: tree pruning end, 1 roots, 6 extra nodes, 0 pruned nodes, max_depth=2\u001b[0m\n",
      "\u001b[34m[2]#011train-error:0.173554\u001b[0m\n",
      "\u001b[34m[16:52:07] src/tree/updater_prune.cc:74: tree pruning end, 1 roots, 4 extra nodes, 6 pruned nodes, max_depth=2\u001b[0m\n",
      "\u001b[34m[3]#011train-error:0.152893\u001b[0m\n",
      "\u001b[34m[16:52:07] src/tree/updater_prune.cc:74: tree pruning end, 1 roots, 8 extra nodes, 0 pruned nodes, max_depth=3\u001b[0m\n",
      "\u001b[34m[4]#011train-error:0.157025\u001b[0m\n",
      "\u001b[34m[16:52:07] src/tree/updater_prune.cc:74: tree pruning end, 1 roots, 6 extra nodes, 2 pruned nodes, max_depth=3\u001b[0m\n",
      "\u001b[34m[5]#011train-error:0.132231\u001b[0m\n",
      "\u001b[34m[16:52:07] src/tree/updater_prune.cc:74: tree pruning end, 1 roots, 4 extra nodes, 4 pruned nodes, max_depth=2\u001b[0m\n",
      "\u001b[34m[6]#011train-error:0.132231\u001b[0m\n",
      "\u001b[34m[16:52:07] src/tree/updater_prune.cc:74: tree pruning end, 1 roots, 2 extra nodes, 4 pruned nodes, max_depth=1\u001b[0m\n",
      "\u001b[34m[7]#011train-error:0.140496\u001b[0m\n",
      "\u001b[34m[16:52:07] src/tree/updater_prune.cc:74: tree pruning end, 1 roots, 4 extra nodes, 2 pruned nodes, max_depth=2\u001b[0m\n",
      "\u001b[34m[8]#011train-error:0.144628\u001b[0m\n",
      "\u001b[34m[16:52:07] src/tree/updater_prune.cc:74: tree pruning end, 1 roots, 4 extra nodes, 2 pruned nodes, max_depth=2\u001b[0m\n",
      "\u001b[34m[9]#011train-error:0.140496\u001b[0m\n",
      "\u001b[34m[16:52:07] src/tree/updater_prune.cc:74: tree pruning end, 1 roots, 4 extra nodes, 4 pruned nodes, max_depth=2\u001b[0m\n",
      "\u001b[34m[10]#011train-error:0.140496\u001b[0m\n",
      "\u001b[34m[16:52:07] src/tree/updater_prune.cc:74: tree pruning end, 1 roots, 4 extra nodes, 0 pruned nodes, max_depth=2\u001b[0m\n",
      "\u001b[34m[11]#011train-error:0.140496\u001b[0m\n",
      "\u001b[34m[16:52:07] src/tree/updater_prune.cc:74: tree pruning end, 1 roots, 2 extra nodes, 4 pruned nodes, max_depth=1\u001b[0m\n",
      "\u001b[34m[12]#011train-error:0.140496\u001b[0m\n",
      "\u001b[34m[16:52:07] src/tree/updater_prune.cc:74: tree pruning end, 1 roots, 2 extra nodes, 4 pruned nodes, max_depth=1\u001b[0m\n",
      "\u001b[34m[13]#011train-error:0.140496\u001b[0m\n",
      "\u001b[34m[16:52:07] src/tree/updater_prune.cc:74: tree pruning end, 1 roots, 2 extra nodes, 4 pruned nodes, max_depth=1\u001b[0m\n",
      "\u001b[34m[14]#011train-error:0.136364\u001b[0m\n",
      "\u001b[34m[16:52:07] src/tree/updater_prune.cc:74: tree pruning end, 1 roots, 2 extra nodes, 4 pruned nodes, max_depth=1\u001b[0m\n",
      "\u001b[34m[15]#011train-error:0.140496\u001b[0m\n",
      "\u001b[34m[16:52:07] src/tree/updater_prune.cc:74: tree pruning end, 1 roots, 2 extra nodes, 2 pruned nodes, max_depth=1\u001b[0m\n",
      "\u001b[34m[16]#011train-error:0.136364\u001b[0m\n",
      "\u001b[34m[16:52:07] src/tree/updater_prune.cc:74: tree pruning end, 1 roots, 2 extra nodes, 4 pruned nodes, max_depth=1\u001b[0m\n",
      "\u001b[34m[17]#011train-error:0.144628\u001b[0m\n",
      "\u001b[34m[16:52:07] src/tree/updater_prune.cc:74: tree pruning end, 1 roots, 4 extra nodes, 0 pruned nodes, max_depth=2\u001b[0m\n",
      "\u001b[34m[18]#011train-error:0.136364\u001b[0m\n",
      "\u001b[34m[16:52:07] src/tree/updater_prune.cc:74: tree pruning end, 1 roots, 4 extra nodes, 0 pruned nodes, max_depth=2\u001b[0m\n",
      "\u001b[34m[19]#011train-error:0.136364\u001b[0m\n",
      "\u001b[34m[16:52:07] src/tree/updater_prune.cc:74: tree pruning end, 1 roots, 2 extra nodes, 2 pruned nodes, max_depth=1\u001b[0m\n",
      "\u001b[34m[20]#011train-error:0.132231\u001b[0m\n",
      "\u001b[34m[16:52:07] src/tree/updater_prune.cc:74: tree pruning end, 1 roots, 2 extra nodes, 2 pruned nodes, max_depth=1\u001b[0m\n",
      "\u001b[34m[21]#011train-error:0.128099\u001b[0m\n",
      "\u001b[34m[16:52:07] src/tree/updater_prune.cc:74: tree pruning end, 1 roots, 0 extra nodes, 4 pruned nodes, max_depth=0\u001b[0m\n",
      "\u001b[34m[22]#011train-error:0.128099\u001b[0m\n",
      "\u001b[34m[16:52:07] src/tree/updater_prune.cc:74: tree pruning end, 1 roots, 0 extra nodes, 6 pruned nodes, max_depth=0\u001b[0m\n",
      "\u001b[34m[23]#011train-error:0.128099\u001b[0m\n",
      "\u001b[34m[16:52:07] src/tree/updater_prune.cc:74: tree pruning end, 1 roots, 4 extra nodes, 0 pruned nodes, max_depth=2\u001b[0m\n",
      "\u001b[34m[24]#011train-error:0.123967\u001b[0m\n",
      "\u001b[34m[16:52:07] src/tree/updater_prune.cc:74: tree pruning end, 1 roots, 2 extra nodes, 2 pruned nodes, max_depth=1\u001b[0m\n",
      "\u001b[34m[25]#011train-error:0.123967\u001b[0m\n",
      "\u001b[34m[16:52:07] src/tree/updater_prune.cc:74: tree pruning end, 1 roots, 0 extra nodes, 6 pruned nodes, max_depth=0\u001b[0m\n",
      "\u001b[34m[26]#011train-error:0.123967\u001b[0m\n",
      "\u001b[34m[16:52:07] src/tree/updater_prune.cc:74: tree pruning end, 1 roots, 0 extra nodes, 4 pruned nodes, max_depth=0\u001b[0m\n",
      "\u001b[34m[27]#011train-error:0.123967\u001b[0m\n",
      "\u001b[34m[16:52:07] src/tree/updater_prune.cc:74: tree pruning end, 1 roots, 0 extra nodes, 6 pruned nodes, max_depth=0\u001b[0m\n",
      "\u001b[34m[28]#011train-error:0.123967\u001b[0m\n",
      "\u001b[34m[16:52:07] src/tree/updater_prune.cc:74: tree pruning end, 1 roots, 0 extra nodes, 4 pruned nodes, max_depth=0\u001b[0m\n",
      "\u001b[34m[29]#011train-error:0.123967\u001b[0m\n",
      "\u001b[34m[16:52:07] src/tree/updater_prune.cc:74: tree pruning end, 1 roots, 0 extra nodes, 4 pruned nodes, max_depth=0\u001b[0m\n",
      "\u001b[34m[30]#011train-error:0.123967\u001b[0m\n",
      "\u001b[34m[16:52:07] src/tree/updater_prune.cc:74: tree pruning end, 1 roots, 0 extra nodes, 4 pruned nodes, max_depth=0\u001b[0m\n",
      "\u001b[34m[31]#011train-error:0.123967\u001b[0m\n",
      "\u001b[34m[16:52:07] src/tree/updater_prune.cc:74: tree pruning end, 1 roots, 0 extra nodes, 4 pruned nodes, max_depth=0\u001b[0m\n",
      "\u001b[34m[32]#011train-error:0.123967\u001b[0m\n",
      "\u001b[34m[16:52:07] src/tree/updater_prune.cc:74: tree pruning end, 1 roots, 0 extra nodes, 4 pruned nodes, max_depth=0\u001b[0m\n",
      "\u001b[34m[33]#011train-error:0.123967\u001b[0m\n",
      "\u001b[34m[16:52:07] src/tree/updater_prune.cc:74: tree pruning end, 1 roots, 0 extra nodes, 6 pruned nodes, max_depth=0\u001b[0m\n",
      "\u001b[34m[34]#011train-error:0.123967\u001b[0m\n",
      "\u001b[34m[16:52:07] src/tree/updater_prune.cc:74: tree pruning end, 1 roots, 0 extra nodes, 4 pruned nodes, max_depth=0\u001b[0m\n",
      "\u001b[34m[35]#011train-error:0.123967\u001b[0m\n",
      "\u001b[34m[16:52:07] src/tree/updater_prune.cc:74: tree pruning end, 1 roots, 0 extra nodes, 4 pruned nodes, max_depth=0\u001b[0m\n",
      "\u001b[34m[36]#011train-error:0.123967\u001b[0m\n",
      "\u001b[34m[16:52:07] src/tree/updater_prune.cc:74: tree pruning end, 1 roots, 2 extra nodes, 2 pruned nodes, max_depth=1\u001b[0m\n",
      "\u001b[34m[37]#011train-error:0.132231\u001b[0m\n",
      "\u001b[34m[16:52:07] src/tree/updater_prune.cc:74: tree pruning end, 1 roots, 0 extra nodes, 4 pruned nodes, max_depth=0\u001b[0m\n",
      "\u001b[34m[38]#011train-error:0.132231\u001b[0m\n",
      "\u001b[34m[16:52:07] src/tree/updater_prune.cc:74: tree pruning end, 1 roots, 4 extra nodes, 2 pruned nodes, max_depth=2\u001b[0m\n",
      "\u001b[34m[39]#011train-error:0.128099\u001b[0m\n",
      "\u001b[34m[16:52:07] src/tree/updater_prune.cc:74: tree pruning end, 1 roots, 0 extra nodes, 6 pruned nodes, max_depth=0\u001b[0m\n",
      "\u001b[34m[40]#011train-error:0.128099\u001b[0m\n",
      "\u001b[34m[16:52:07] src/tree/updater_prune.cc:74: tree pruning end, 1 roots, 0 extra nodes, 4 pruned nodes, max_depth=0\u001b[0m\n",
      "\u001b[34m[41]#011train-error:0.128099\u001b[0m\n",
      "\u001b[34m[16:52:07] src/tree/updater_prune.cc:74: tree pruning end, 1 roots, 0 extra nodes, 4 pruned nodes, max_depth=0\u001b[0m\n",
      "\u001b[34m[42]#011train-error:0.128099\u001b[0m\n",
      "\u001b[34m[16:52:07] src/tree/updater_prune.cc:74: tree pruning end, 1 roots, 0 extra nodes, 4 pruned nodes, max_depth=0\u001b[0m\n",
      "\u001b[34m[43]#011train-error:0.132231\u001b[0m\n",
      "\u001b[34m[16:52:07] src/tree/updater_prune.cc:74: tree pruning end, 1 roots, 4 extra nodes, 0 pruned nodes, max_depth=2\u001b[0m\n",
      "\u001b[34m[44]#011train-error:0.115702\u001b[0m\n",
      "\u001b[34m[16:52:07] src/tree/updater_prune.cc:74: tree pruning end, 1 roots, 0 extra nodes, 4 pruned nodes, max_depth=0\u001b[0m\n",
      "\u001b[34m[45]#011train-error:0.115702\u001b[0m\n",
      "\u001b[34m[16:52:07] src/tree/updater_prune.cc:74: tree pruning end, 1 roots, 0 extra nodes, 4 pruned nodes, max_depth=0\u001b[0m\n",
      "\u001b[34m[46]#011train-error:0.115702\u001b[0m\n",
      "\u001b[34m[16:52:07] src/tree/updater_prune.cc:74: tree pruning end, 1 roots, 0 extra nodes, 4 pruned nodes, max_depth=0\u001b[0m\n",
      "\u001b[34m[47]#011train-error:0.115702\u001b[0m\n",
      "\u001b[34m[16:52:07] src/tree/updater_prune.cc:74: tree pruning end, 1 roots, 0 extra nodes, 4 pruned nodes, max_depth=0\u001b[0m\n",
      "\u001b[34m[48]#011train-error:0.115702\u001b[0m\n",
      "\u001b[34m[16:52:07] src/tree/updater_prune.cc:74: tree pruning end, 1 roots, 0 extra nodes, 4 pruned nodes, max_depth=0\u001b[0m\n",
      "\u001b[34m[49]#011train-error:0.115702\u001b[0m\n",
      "\u001b[34m[16:52:07] src/tree/updater_prune.cc:74: tree pruning end, 1 roots, 0 extra nodes, 4 pruned nodes, max_depth=0\u001b[0m\n",
      "\u001b[34m[50]#011train-error:0.115702\u001b[0m\n",
      "\u001b[34m[16:52:07] src/tree/updater_prune.cc:74: tree pruning end, 1 roots, 0 extra nodes, 4 pruned nodes, max_depth=0\u001b[0m\n",
      "\u001b[34m[51]#011train-error:0.115702\u001b[0m\n",
      "\u001b[34m[16:52:07] src/tree/updater_prune.cc:74: tree pruning end, 1 roots, 0 extra nodes, 4 pruned nodes, max_depth=0\u001b[0m\n",
      "\u001b[34m[52]#011train-error:0.115702\u001b[0m\n",
      "\u001b[34m[16:52:07] src/tree/updater_prune.cc:74: tree pruning end, 1 roots, 0 extra nodes, 4 pruned nodes, max_depth=0\u001b[0m\n",
      "\u001b[34m[53]#011train-error:0.115702\u001b[0m\n",
      "\u001b[34m[16:52:07] src/tree/updater_prune.cc:74: tree pruning end, 1 roots, 0 extra nodes, 4 pruned nodes, max_depth=0\u001b[0m\n",
      "\u001b[34m[54]#011train-error:0.115702\u001b[0m\n",
      "\u001b[34m[16:52:07] src/tree/updater_prune.cc:74: tree pruning end, 1 roots, 0 extra nodes, 4 pruned nodes, max_depth=0\u001b[0m\n",
      "\u001b[34m[55]#011train-error:0.115702\u001b[0m\n",
      "\u001b[34m[16:52:07] src/tree/updater_prune.cc:74: tree pruning end, 1 roots, 0 extra nodes, 4 pruned nodes, max_depth=0\u001b[0m\n",
      "\u001b[34m[56]#011train-error:0.119835\u001b[0m\n",
      "\u001b[34m[16:52:07] src/tree/updater_prune.cc:74: tree pruning end, 1 roots, 4 extra nodes, 2 pruned nodes, max_depth=2\u001b[0m\n",
      "\u001b[34m[57]#011train-error:0.123967\u001b[0m\n",
      "\u001b[34m[16:52:07] src/tree/updater_prune.cc:74: tree pruning end, 1 roots, 0 extra nodes, 6 pruned nodes, max_depth=0\u001b[0m\n",
      "\u001b[34m[58]#011train-error:0.119835\u001b[0m\n",
      "\u001b[34m[16:52:07] src/tree/updater_prune.cc:74: tree pruning end, 1 roots, 0 extra nodes, 4 pruned nodes, max_depth=0\u001b[0m\n",
      "\u001b[34m[59]#011train-error:0.123967\u001b[0m\n",
      "\u001b[34m[16:52:07] src/tree/updater_prune.cc:74: tree pruning end, 1 roots, 0 extra nodes, 4 pruned nodes, max_depth=0\u001b[0m\n",
      "\u001b[34m[60]#011train-error:0.123967\u001b[0m\n",
      "\u001b[34m[16:52:07] src/tree/updater_prune.cc:74: tree pruning end, 1 roots, 0 extra nodes, 4 pruned nodes, max_depth=0\u001b[0m\n",
      "\u001b[34m[61]#011train-error:0.123967\u001b[0m\n",
      "\u001b[34m[16:52:07] src/tree/updater_prune.cc:74: tree pruning end, 1 roots, 0 extra nodes, 4 pruned nodes, max_depth=0\u001b[0m\n",
      "\u001b[34m[62]#011train-error:0.123967\u001b[0m\n",
      "\u001b[34m[16:52:07] src/tree/updater_prune.cc:74: tree pruning end, 1 roots, 0 extra nodes, 4 pruned nodes, max_depth=0\u001b[0m\n",
      "\u001b[34m[63]#011train-error:0.123967\u001b[0m\n",
      "\u001b[34m[16:52:07] src/tree/updater_prune.cc:74: tree pruning end, 1 roots, 0 extra nodes, 4 pruned nodes, max_depth=0\u001b[0m\n",
      "\u001b[34m[64]#011train-error:0.123967\u001b[0m\n",
      "\u001b[34m[16:52:07] src/tree/updater_prune.cc:74: tree pruning end, 1 roots, 0 extra nodes, 4 pruned nodes, max_depth=0\u001b[0m\n",
      "\u001b[34m[65]#011train-error:0.123967\u001b[0m\n",
      "\u001b[34m[16:52:07] src/tree/updater_prune.cc:74: tree pruning end, 1 roots, 0 extra nodes, 4 pruned nodes, max_depth=0\u001b[0m\n",
      "\u001b[34m[66]#011train-error:0.123967\u001b[0m\n",
      "\u001b[34m[16:52:07] src/tree/updater_prune.cc:74: tree pruning end, 1 roots, 0 extra nodes, 4 pruned nodes, max_depth=0\u001b[0m\n",
      "\u001b[34m[67]#011train-error:0.123967\u001b[0m\n",
      "\u001b[34m[16:52:07] src/tree/updater_prune.cc:74: tree pruning end, 1 roots, 0 extra nodes, 4 pruned nodes, max_depth=0\u001b[0m\n",
      "\u001b[34m[68]#011train-error:0.119835\u001b[0m\n",
      "\u001b[34m[16:52:07] src/tree/updater_prune.cc:74: tree pruning end, 1 roots, 0 extra nodes, 4 pruned nodes, max_depth=0\u001b[0m\n",
      "\u001b[34m[69]#011train-error:0.119835\u001b[0m\n",
      "\u001b[34m[16:52:07] src/tree/updater_prune.cc:74: tree pruning end, 1 roots, 0 extra nodes, 2 pruned nodes, max_depth=0\u001b[0m\n",
      "\u001b[34m[70]#011train-error:0.119835\u001b[0m\n",
      "\u001b[34m[16:52:07] src/tree/updater_prune.cc:74: tree pruning end, 1 roots, 0 extra nodes, 4 pruned nodes, max_depth=0\u001b[0m\n",
      "\u001b[34m[71]#011train-error:0.123967\u001b[0m\n",
      "\u001b[34m[16:52:07] src/tree/updater_prune.cc:74: tree pruning end, 1 roots, 0 extra nodes, 4 pruned nodes, max_depth=0\u001b[0m\n",
      "\u001b[34m[72]#011train-error:0.123967\u001b[0m\n",
      "\u001b[34m[16:52:07] src/tree/updater_prune.cc:74: tree pruning end, 1 roots, 0 extra nodes, 6 pruned nodes, max_depth=0\u001b[0m\n",
      "\u001b[34m[73]#011train-error:0.123967\u001b[0m\n",
      "\u001b[34m[16:52:07] src/tree/updater_prune.cc:74: tree pruning end, 1 roots, 0 extra nodes, 4 pruned nodes, max_depth=0\u001b[0m\n",
      "\u001b[34m[74]#011train-error:0.123967\u001b[0m\n",
      "\u001b[34m[16:52:07] src/tree/updater_prune.cc:74: tree pruning end, 1 roots, 0 extra nodes, 4 pruned nodes, max_depth=0\u001b[0m\n",
      "\u001b[34m[75]#011train-error:0.123967\u001b[0m\n",
      "\u001b[34m[16:52:07] src/tree/updater_prune.cc:74: tree pruning end, 1 roots, 0 extra nodes, 4 pruned nodes, max_depth=0\u001b[0m\n",
      "\u001b[34m[76]#011train-error:0.123967\u001b[0m\n",
      "\u001b[34m[16:52:07] src/tree/updater_prune.cc:74: tree pruning end, 1 roots, 0 extra nodes, 4 pruned nodes, max_depth=0\u001b[0m\n",
      "\u001b[34m[77]#011train-error:0.123967\u001b[0m\n",
      "\u001b[34m[16:52:07] src/tree/updater_prune.cc:74: tree pruning end, 1 roots, 0 extra nodes, 4 pruned nodes, max_depth=0\u001b[0m\n",
      "\u001b[34m[78]#011train-error:0.123967\u001b[0m\n",
      "\u001b[34m[79]#011train-error:0.123967\u001b[0m\n",
      "\u001b[34m[16:52:07] src/tree/updater_prune.cc:74: tree pruning end, 1 roots, 0 extra nodes, 4 pruned nodes, max_depth=0\u001b[0m\n",
      "\u001b[34m[16:52:07] src/tree/updater_prune.cc:74: tree pruning end, 1 roots, 0 extra nodes, 4 pruned nodes, max_depth=0\u001b[0m\n",
      "\u001b[34m[80]#011train-error:0.123967\u001b[0m\n",
      "\u001b[34m[16:52:07] src/tree/updater_prune.cc:74: tree pruning end, 1 roots, 0 extra nodes, 6 pruned nodes, max_depth=0\u001b[0m\n",
      "\u001b[34m[81]#011train-error:0.119835\u001b[0m\n",
      "\u001b[34m[16:52:07] src/tree/updater_prune.cc:74: tree pruning end, 1 roots, 0 extra nodes, 4 pruned nodes, max_depth=0\u001b[0m\n",
      "\u001b[34m[82]#011train-error:0.123967\u001b[0m\n",
      "\u001b[34m[16:52:07] src/tree/updater_prune.cc:74: tree pruning end, 1 roots, 0 extra nodes, 4 pruned nodes, max_depth=0\u001b[0m\n",
      "\u001b[34m[83]#011train-error:0.119835\u001b[0m\n",
      "\u001b[34m[16:52:07] src/tree/updater_prune.cc:74: tree pruning end, 1 roots, 0 extra nodes, 4 pruned nodes, max_depth=0\u001b[0m\n",
      "\u001b[34m[84]#011train-error:0.119835\u001b[0m\n",
      "\u001b[34m[16:52:07] src/tree/updater_prune.cc:74: tree pruning end, 1 roots, 0 extra nodes, 4 pruned nodes, max_depth=0\u001b[0m\n",
      "\u001b[34m[85]#011train-error:0.123967\u001b[0m\n",
      "\u001b[34m[16:52:07] src/tree/updater_prune.cc:74: tree pruning end, 1 roots, 0 extra nodes, 4 pruned nodes, max_depth=0\u001b[0m\n",
      "\u001b[34m[86]#011train-error:0.123967\u001b[0m\n",
      "\u001b[34m[16:52:07] src/tree/updater_prune.cc:74: tree pruning end, 1 roots, 0 extra nodes, 4 pruned nodes, max_depth=0\u001b[0m\n",
      "\u001b[34m[87]#011train-error:0.123967\u001b[0m\n",
      "\u001b[34m[16:52:07] src/tree/updater_prune.cc:74: tree pruning end, 1 roots, 0 extra nodes, 4 pruned nodes, max_depth=0\u001b[0m\n",
      "\u001b[34m[88]#011train-error:0.123967\u001b[0m\n",
      "\u001b[34m[16:52:07] src/tree/updater_prune.cc:74: tree pruning end, 1 roots, 0 extra nodes, 4 pruned nodes, max_depth=0\u001b[0m\n",
      "\u001b[34m[89]#011train-error:0.123967\u001b[0m\n",
      "\u001b[34m[16:52:07] src/tree/updater_prune.cc:74: tree pruning end, 1 roots, 0 extra nodes, 4 pruned nodes, max_depth=0\u001b[0m\n",
      "\u001b[34m[90]#011train-error:0.123967\u001b[0m\n",
      "\u001b[34m[16:52:07] src/tree/updater_prune.cc:74: tree pruning end, 1 roots, 0 extra nodes, 4 pruned nodes, max_depth=0\u001b[0m\n",
      "\u001b[34m[91]#011train-error:0.123967\u001b[0m\n",
      "\u001b[34m[16:52:07] src/tree/updater_prune.cc:74: tree pruning end, 1 roots, 0 extra nodes, 4 pruned nodes, max_depth=0\u001b[0m\n",
      "\u001b[34m[92]#011train-error:0.123967\u001b[0m\n",
      "\u001b[34m[16:52:07] src/tree/updater_prune.cc:74: tree pruning end, 1 roots, 2 extra nodes, 2 pruned nodes, max_depth=1\u001b[0m\n",
      "\u001b[34m[93]#011train-error:0.132231\u001b[0m\n",
      "\u001b[34m[16:52:07] src/tree/updater_prune.cc:74: tree pruning end, 1 roots, 0 extra nodes, 4 pruned nodes, max_depth=0\u001b[0m\n",
      "\u001b[34m[94]#011train-error:0.128099\u001b[0m\n",
      "\u001b[34m[16:52:07] src/tree/updater_prune.cc:74: tree pruning end, 1 roots, 0 extra nodes, 4 pruned nodes, max_depth=0\u001b[0m\n",
      "\u001b[34m[95]#011train-error:0.128099\u001b[0m\n",
      "\u001b[34m[16:52:07] src/tree/updater_prune.cc:74: tree pruning end, 1 roots, 0 extra nodes, 4 pruned nodes, max_depth=0\u001b[0m\n",
      "\u001b[34m[96]#011train-error:0.128099\u001b[0m\n",
      "\u001b[34m[16:52:07] src/tree/updater_prune.cc:74: tree pruning end, 1 roots, 0 extra nodes, 4 pruned nodes, max_depth=0\u001b[0m\n",
      "\u001b[34m[97]#011train-error:0.128099\u001b[0m\n",
      "\u001b[34m[16:52:07] src/tree/updater_prune.cc:74: tree pruning end, 1 roots, 0 extra nodes, 4 pruned nodes, max_depth=0\u001b[0m\n",
      "\u001b[34m[98]#011train-error:0.128099\u001b[0m\n",
      "\u001b[34m[16:52:07] src/tree/updater_prune.cc:74: tree pruning end, 1 roots, 0 extra nodes, 4 pruned nodes, max_depth=0\u001b[0m\n",
      "\u001b[34m[99]#011train-error:0.128099\u001b[0m\n",
      "\n",
      "2021-12-11 16:52:47 Completed - Training job completed\n",
      "Training seconds: 49\n",
      "Billable seconds: 49\n"
     ]
    }
   ],
   "source": [
    "xgb.fit({\"train\": s3_input_train})"
   ]
  },
  {
   "cell_type": "markdown",
   "id": "c296d1a3",
   "metadata": {},
   "source": [
    "# Deploy the model"
   ]
  },
  {
   "cell_type": "markdown",
   "id": "c93751ad",
   "metadata": {},
   "source": [
    "Deploy the model on a server and create a SageMaker endpoint that can be accessed."
   ]
  },
  {
   "cell_type": "code",
   "execution_count": 14,
   "id": "2a099243",
   "metadata": {},
   "outputs": [
    {
     "name": "stdout",
     "output_type": "stream",
     "text": [
      "-----!"
     ]
    }
   ],
   "source": [
    "xgb_predictor = xgb.deploy(initial_instance_count = 1,\n",
    "                           instance_type = \"ml.m4.xlarge\")"
   ]
  },
  {
   "cell_type": "markdown",
   "id": "2b80aa71",
   "metadata": {},
   "source": [
    "Predict whether the given patients have cardiovascular disease or not."
   ]
  },
  {
   "cell_type": "code",
   "execution_count": 15,
   "id": "2d32f694",
   "metadata": {},
   "outputs": [
    {
     "name": "stdout",
     "output_type": "stream",
     "text": [
      "(61,)\n"
     ]
    }
   ],
   "source": [
    "test_data_array = test_data.drop(labels = [\"num_0\", \"num_1\"], axis = \"columns\").values # load the data into an array\n",
    "xgb_predictor.serializer = CSVSerializer() # set the serializer type\n",
    "predictions = xgb_predictor.predict(test_data_array).decode(\"utf-8\") # predict!\n",
    "predictions_array = np.fromstring(predictions[1:], sep=\",\") # and turn the prediction into an array\n",
    "print(predictions_array.shape)"
   ]
  },
  {
   "cell_type": "markdown",
   "id": "7eb8a2b0",
   "metadata": {},
   "source": [
    "# Evaluate model performance"
   ]
  },
  {
   "cell_type": "markdown",
   "id": "553fd411",
   "metadata": {},
   "source": [
    "Compare the actual vs predicted values in a confusion matrix."
   ]
  },
  {
   "cell_type": "code",
   "execution_count": 16,
   "id": "7a9c199c",
   "metadata": {},
   "outputs": [
    {
     "name": "stdout",
     "output_type": "stream",
     "text": [
      "\n",
      "Overall Classification Rate: 82.0%\n",
      "\n",
      "Predicted      No Disease      Disease\n",
      "Observed\n",
      "No Disease     86% (32)    25% (6)\n",
      "Disease         14% (5)     75% (18) \n",
      "\n"
     ]
    }
   ],
   "source": [
    "cm = pd.crosstab(index = test_data[\"num_1\"], \n",
    "                 columns = np.round(predictions_array), \n",
    "                 rownames = [\"Observed\"], \n",
    "                 colnames = [\"Predicted\"])\n",
    "tn = cm.iloc[0, 0]\n",
    "fn = cm.iloc[1, 0]\n",
    "tp = cm.iloc[1, 1]\n",
    "fp = cm.iloc[0, 1]\n",
    "p = (tp + tn) / (tp + tn + fp + fn) * 100\n",
    "print(\"\\n{0:<20}{1:<4.1f}%\\n\".format(\"Overall Classification Rate: \", \n",
    "                                     p))\n",
    "print(\"{0:<15}{1:<15}{2:>8}\".format(\"Predicted\", \n",
    "                                    \"No Disease\", \n",
    "                                    \"Disease\"))\n",
    "print(\"Observed\")\n",
    "print(\"{0:<15}{1:<2.0f}% ({2:<}){3:>6.0f}% ({4:<})\".format(\"No Disease\", \n",
    "                                                           tn / (tn + fn) *100,\n",
    "                                                           tn, \n",
    "                                                           fp / (tp + fp) * 100, \n",
    "                                                           fp))\n",
    "print(\"{0:<16}{1:<1.0f}% ({2:<}){3:>7.0f}% ({4:<}) \\n\".format(\"Disease\", \n",
    "                                                              fn / (tn + fn) * 100,\n",
    "                                                              fn, \n",
    "                                                              tp / (tp + fp) *100, \n",
    "                                                              tp))"
   ]
  },
  {
   "cell_type": "markdown",
   "id": "41204494",
   "metadata": {},
   "source": [
    "# Clean up"
   ]
  },
  {
   "cell_type": "markdown",
   "id": "136f79bb",
   "metadata": {},
   "source": [
    "Delete the endpoint."
   ]
  },
  {
   "cell_type": "code",
   "execution_count": 17,
   "id": "a8fef0b8",
   "metadata": {},
   "outputs": [],
   "source": [
    "xgb_predictor.delete_endpoint(delete_endpoint_config = True)"
   ]
  },
  {
   "cell_type": "markdown",
   "id": "698917e9",
   "metadata": {},
   "source": [
    "Delete the training artifacts and the S3 bucket."
   ]
  },
  {
   "cell_type": "code",
   "execution_count": 18,
   "id": "036e175a",
   "metadata": {},
   "outputs": [
    {
     "data": {
      "text/plain": [
       "[{'ResponseMetadata': {'RequestId': '9HRFRY97A1YAVBEA',\n",
       "   'HostId': 'Cva3kxitQxjo4DNyoP9Yq+6r1ZU/R0o79nYI3EFFzcHSZGxn2N8MDuFzsDS966sgKQn0hXAx3YE=',\n",
       "   'HTTPStatusCode': 200,\n",
       "   'HTTPHeaders': {'x-amz-id-2': 'Cva3kxitQxjo4DNyoP9Yq+6r1ZU/R0o79nYI3EFFzcHSZGxn2N8MDuFzsDS966sgKQn0hXAx3YE=',\n",
       "    'x-amz-request-id': '9HRFRY97A1YAVBEA',\n",
       "    'date': 'Sat, 11 Dec 2021 16:58:27 GMT',\n",
       "    'content-type': 'application/xml',\n",
       "    'transfer-encoding': 'chunked',\n",
       "    'server': 'AmazonS3',\n",
       "    'connection': 'close'},\n",
       "   'RetryAttempts': 0},\n",
       "  'Deleted': [{'Key': 'sagemaker/DEMO-xgboost-dm/output/xgboost-2021-12-11-16-48-48-028/rule-output/ProfilerReport-1639241328/profiler-output/profiler-reports/LoadBalancing.json'},\n",
       "   {'Key': 'sagemaker/DEMO-xgboost-dm/output/xgboost-2021-12-11-16-48-48-028/profiler-output/system/training_job_end.ts'},\n",
       "   {'Key': 'sagemaker/DEMO-xgboost-dm/output/xgboost-2021-12-11-16-14-05-537/rule-output/ProfilerReport-1639239245/profiler-output/profiler-reports/StepOutlier.json'},\n",
       "   {'Key': 'sagemaker/DEMO-xgboost-dm/output/xgboost-2021-12-11-16-14-05-537/output/model.tar.gz'},\n",
       "   {'Key': 'sagemaker/DEMO-xgboost-dm/output/xgboost-2021-12-11-16-14-05-537/rule-output/ProfilerReport-1639239245/profiler-output/profiler-reports/IOBottleneck.json'},\n",
       "   {'Key': 'sagemaker/DEMO-xgboost-dm/output/xgboost-2021-12-11-16-48-48-028/rule-output/ProfilerReport-1639241328/profiler-output/profiler-reports/LowGPUUtilization.json'},\n",
       "   {'Key': 'sagemaker/DEMO-xgboost-dm/output/xgboost-2021-12-11-16-48-48-028/rule-output/ProfilerReport-1639241328/profiler-output/profiler-reports/BatchSize.json'},\n",
       "   {'Key': 'sagemaker/DEMO-xgboost-dm/train/train.csv'},\n",
       "   {'Key': 'sagemaker/DEMO-xgboost-dm/output/xgboost-2021-12-11-16-14-05-537/rule-output/ProfilerReport-1639239245/profiler-output/profiler-reports/MaxInitializationTime.json'},\n",
       "   {'Key': 'sagemaker/DEMO-xgboost-dm/output/xgboost-2021-12-11-16-14-05-537/rule-output/ProfilerReport-1639239245/profiler-output/profiler-reports/OverallFrameworkMetrics.json'},\n",
       "   {'Key': 'sagemaker/DEMO-xgboost-dm/output/xgboost-2021-12-11-16-14-05-537/rule-output/ProfilerReport-1639239245/profiler-output/profiler-reports/BatchSize.json'},\n",
       "   {'Key': 'sagemaker/DEMO-xgboost-dm/output/xgboost-2021-12-11-16-14-05-537/rule-output/ProfilerReport-1639239245/profiler-output/profiler-reports/OverallSystemUsage.json'},\n",
       "   {'Key': 'sagemaker/DEMO-xgboost-dm/output/xgboost-2021-12-11-16-48-48-028/profiler-output/system/incremental/2021121116/1639241460.algo-1.json'},\n",
       "   {'Key': 'sagemaker/DEMO-xgboost-dm/output/xgboost-2021-12-11-16-48-48-028/rule-output/ProfilerReport-1639241328/profiler-output/profiler-reports/MaxInitializationTime.json'},\n",
       "   {'Key': 'sagemaker/DEMO-xgboost-dm/output/xgboost-2021-12-11-16-14-05-537/rule-output/ProfilerReport-1639239245/profiler-output/profiler-reports/CPUBottleneck.json'},\n",
       "   {'Key': 'sagemaker/DEMO-xgboost-dm/output/xgboost-2021-12-11-16-14-05-537/profiler-output/system/incremental/2021121116/1639239420.algo-1.json'},\n",
       "   {'Key': 'sagemaker/DEMO-xgboost-dm/output/xgboost-2021-12-11-16-48-48-028/rule-output/ProfilerReport-1639241328/profiler-output/profiler-reports/StepOutlier.json'},\n",
       "   {'Key': 'sagemaker/DEMO-xgboost-dm/output/xgboost-2021-12-11-16-14-05-537/rule-output/ProfilerReport-1639239245/profiler-output/profiler-report.html'},\n",
       "   {'Key': 'sagemaker/DEMO-xgboost-dm/output/xgboost-2021-12-11-16-48-48-028/rule-output/ProfilerReport-1639241328/profiler-output/profiler-reports/CPUBottleneck.json'},\n",
       "   {'Key': 'sagemaker/DEMO-xgboost-dm/output/xgboost-2021-12-11-16-14-05-537/profiler-output/system/training_job_end.ts'},\n",
       "   {'Key': 'sagemaker/DEMO-xgboost-dm/output/xgboost-2021-12-11-16-14-05-537/rule-output/ProfilerReport-1639239245/profiler-output/profiler-reports/GPUMemoryIncrease.json'},\n",
       "   {'Key': 'sagemaker/DEMO-xgboost-dm/output/xgboost-2021-12-11-16-14-05-537/rule-output/ProfilerReport-1639239245/profiler-output/profiler-reports/LowGPUUtilization.json'},\n",
       "   {'Key': 'sagemaker/DEMO-xgboost-dm/output/xgboost-2021-12-11-16-48-48-028/rule-output/ProfilerReport-1639241328/profiler-output/profiler-reports/IOBottleneck.json'},\n",
       "   {'Key': 'sagemaker/DEMO-xgboost-dm/output/xgboost-2021-12-11-16-14-05-537/profiler-output/system/incremental/2021121116/1639239360.algo-1.json'},\n",
       "   {'Key': 'sagemaker/DEMO-xgboost-dm/output/xgboost-2021-12-11-16-48-48-028/rule-output/ProfilerReport-1639241328/profiler-output/profiler-report.html'},\n",
       "   {'Key': 'sagemaker/DEMO-xgboost-dm/output/xgboost-2021-12-11-16-48-48-028/rule-output/ProfilerReport-1639241328/profiler-output/profiler-reports/Dataloader.json'},\n",
       "   {'Key': 'sagemaker/DEMO-xgboost-dm/output/xgboost-2021-12-11-16-48-48-028/output/model.tar.gz'},\n",
       "   {'Key': 'sagemaker/DEMO-xgboost-dm/output/xgboost-2021-12-11-16-48-48-028/rule-output/ProfilerReport-1639241328/profiler-output/profiler-report.ipynb'},\n",
       "   {'Key': 'sagemaker/DEMO-xgboost-dm/output/xgboost-2021-12-11-16-48-48-028/rule-output/ProfilerReport-1639241328/profiler-output/profiler-reports/OverallSystemUsage.json'},\n",
       "   {'Key': 'sagemaker/DEMO-xgboost-dm/output/xgboost-2021-12-11-16-14-05-537/rule-output/ProfilerReport-1639239245/profiler-output/profiler-reports/Dataloader.json'},\n",
       "   {'Key': 'sagemaker/DEMO-xgboost-dm/output/xgboost-2021-12-11-16-14-05-537/rule-output/ProfilerReport-1639239245/profiler-output/profiler-report.ipynb'},\n",
       "   {'Key': 'sagemaker/DEMO-xgboost-dm/output/xgboost-2021-12-11-16-48-48-028/rule-output/ProfilerReport-1639241328/profiler-output/profiler-reports/GPUMemoryIncrease.json'},\n",
       "   {'Key': 'sagemaker/DEMO-xgboost-dm/output/xgboost-2021-12-11-16-48-48-028/rule-output/ProfilerReport-1639241328/profiler-output/profiler-reports/OverallFrameworkMetrics.json'},\n",
       "   {'Key': 'sagemaker/DEMO-xgboost-dm/output/xgboost-2021-12-11-16-14-05-537/rule-output/ProfilerReport-1639239245/profiler-output/profiler-reports/LoadBalancing.json'},\n",
       "   {'Key': 'sagemaker/DEMO-xgboost-dm/output/xgboost-2021-12-11-16-48-48-028/profiler-output/system/incremental/2021121116/1639241520.algo-1.json'},\n",
       "   {'Key': 'sagemaker/DEMO-xgboost-dm/output/xgboost-2021-12-11-16-48-48-028/profiler-output/framework/training_job_end.ts'},\n",
       "   {'Key': 'sagemaker/DEMO-xgboost-dm/output/xgboost-2021-12-11-16-14-05-537/profiler-output/framework/training_job_end.ts'}]}]"
      ]
     },
     "execution_count": 18,
     "metadata": {},
     "output_type": "execute_result"
    }
   ],
   "source": [
    "bucket_to_delete = boto3.resource(\"s3\").Bucket(bucket_name)\n",
    "bucket_to_delete.objects.all().delete()"
   ]
  }
 ],
 "metadata": {
  "kernelspec": {
   "display_name": "conda_python3",
   "language": "python",
   "name": "conda_python3"
  },
  "language_info": {
   "codemirror_mode": {
    "name": "ipython",
    "version": 3
   },
   "file_extension": ".py",
   "mimetype": "text/x-python",
   "name": "python",
   "nbconvert_exporter": "python",
   "pygments_lexer": "ipython3",
   "version": "3.6.13"
  }
 },
 "nbformat": 4,
 "nbformat_minor": 5
}
